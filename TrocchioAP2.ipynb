{
  "nbformat": 4,
  "nbformat_minor": 0,
  "metadata": {
    "colab": {
      "name": "TrocchioAP2.ipynb",
      "provenance": [],
      "collapsed_sections": [],
      "toc_visible": true,
      "authorship_tag": "ABX9TyPlJ3wRwL6ajDpKOoHLjmzw",
      "include_colab_link": true
    },
    "kernelspec": {
      "name": "python3",
      "display_name": "Python 3"
    },
    "language_info": {
      "name": "python"
    }
  },
  "cells": [
    {
      "cell_type": "markdown",
      "metadata": {
        "id": "view-in-github",
        "colab_type": "text"
      },
      "source": [
        "<a href=\"https://colab.research.google.com/github/sitolorenzoweb/ITS-ICT_DataAnalitycs-MachineLearning/blob/main/TrocchioAP2.ipynb\" target=\"_parent\"><img src=\"https://colab.research.google.com/assets/colab-badge.svg\" alt=\"Open In Colab\"/></a>"
      ]
    },
    {
      "cell_type": "markdown",
      "metadata": {
        "id": "obeTQRGl2DTP"
      },
      "source": [
        "# Esercizio 1"
      ]
    },
    {
      "cell_type": "code",
      "metadata": {
        "id": "wjBxMqj42Dib",
        "colab": {
          "base_uri": "https://localhost:8080/"
        },
        "outputId": "7745654f-ddc3-4ccd-9fc7-d67e1d6eea4e"
      },
      "source": [
        "#Esercizio1\n",
        "listaNum = [1, -2, 3.3, 10, -9, 7, 16.1, 5, 3, -1, -10, 15.9]\n",
        "def funzioneEs1(lista):\n",
        "    lista.sort(reverse=True)\n",
        "    print(lista)\n",
        "\n",
        "print(\"ListaNum:\", listaNum)\n",
        "print(\"Dopo funzioneEs1:\")\n",
        "funzioneEs1(listaNum)\n",
        "    "
      ],
      "execution_count": null,
      "outputs": [
        {
          "output_type": "stream",
          "name": "stdout",
          "text": [
            "ListaNum: [1, -2, 3.3, 10, -9, 7, 16.1, 5, 3, -1, -10, 15.9]\n",
            "Dopo funzioneEs1:\n",
            "[16.1, 15.9, 10, 7, 5, 3.3, 3, 1, -1, -2, -9, -10]\n"
          ]
        }
      ]
    },
    {
      "cell_type": "markdown",
      "metadata": {
        "id": "knM2Ypin7hU9"
      },
      "source": [
        "# Esercizio 2"
      ]
    },
    {
      "cell_type": "code",
      "metadata": {
        "colab": {
          "base_uri": "https://localhost:8080/"
        },
        "id": "F1-5Ucld7k5o",
        "outputId": "81327fa2-f925-496a-e7cf-4c781aa1313d"
      },
      "source": [
        "#Esercizio2\n",
        "lista2 = [0, 1, 2, 7, 4, 3, 5, 4]\n",
        "def funzioneEs2(lista):\n",
        "    somma = 0\n",
        "    for item in lista:\n",
        "        if item%2 == 0:\n",
        "            somma = somma + item \n",
        "    print(somma)\n",
        "\n",
        "print(\"Lista2:\", lista2)\n",
        "print(\"Somma:\")\n",
        "funzioneEs2(lista2)"
      ],
      "execution_count": null,
      "outputs": [
        {
          "output_type": "stream",
          "name": "stdout",
          "text": [
            "Lista2: [0, 1, 2, 7, 4, 3, 5, 4]\n",
            "Somma:\n",
            "10\n"
          ]
        }
      ]
    },
    {
      "cell_type": "markdown",
      "metadata": {
        "id": "IcivLxbjCZXO"
      },
      "source": [
        "# Esercizio 3"
      ]
    },
    {
      "cell_type": "code",
      "metadata": {
        "colab": {
          "base_uri": "https://localhost:8080/"
        },
        "id": "EBxqoQLeCeDc",
        "outputId": "2ccd508b-ac6d-4e88-e4d8-3e531e382f59"
      },
      "source": [
        "#Esercizio3\n",
        "stringa = \"Tijuana\"\n",
        "def funzioneEs3(stringa):\n",
        "    stringa = stringa[::-1].upper()\n",
        "    print(stringa)\n",
        "\n",
        "print(stringa)\n",
        "funzioneEs3(stringa)"
      ],
      "execution_count": null,
      "outputs": [
        {
          "output_type": "stream",
          "name": "stdout",
          "text": [
            "Tijuana\n",
            "ANAUJIT\n"
          ]
        }
      ]
    },
    {
      "cell_type": "markdown",
      "metadata": {
        "id": "RjH0BVJ-JpdZ"
      },
      "source": [
        "# Esercizio 4"
      ]
    },
    {
      "cell_type": "code",
      "metadata": {
        "colab": {
          "base_uri": "https://localhost:8080/"
        },
        "id": "td3c5v2LL5Kx",
        "outputId": "9dd4da92-8261-4d53-93d2-8c1c85b48886"
      },
      "source": [
        "#Esercizio4\n",
        "frase = \"ITS ICT Piemonte\"\n",
        "carattere = 'i'\n",
        "\n",
        "def funzioneEs4(frase, carattere):\n",
        "    cont = frase.count(carattere)\n",
        "    print(\"Il carattere\", carattere, \"è contenuto\", cont, \"volte/a\")\n",
        "\n",
        "print(\"Frase:\", frase, \"\\nCarattere:\", carattere)\n",
        "funzioneEs4(frase, carattere)"
      ],
      "execution_count": null,
      "outputs": [
        {
          "output_type": "stream",
          "name": "stdout",
          "text": [
            "Frase: ITS ICT Piemonte \n",
            "Carattere: i\n",
            "Il carattere i è contenuto 1 volte/a\n"
          ]
        }
      ]
    },
    {
      "cell_type": "markdown",
      "metadata": {
        "id": "JoL_fD0vJwOX"
      },
      "source": [
        "# Esercizio 5"
      ]
    },
    {
      "cell_type": "code",
      "metadata": {
        "colab": {
          "base_uri": "https://localhost:8080/"
        },
        "id": "NGwpwLFLakyS",
        "outputId": "df1a1131-39da-49b4-d8c7-969298bf2346"
      },
      "source": [
        "#Esercizio5\n",
        "lista3 = [1, \"ciao\", 1.5, 'a', 4.5, 5, \"NaN\"]\n",
        "#lista3 = [1, 2.0, 3, 4, \"sal\"]\n",
        "\n",
        "def describe(lista3):\n",
        "    qtaNums = 0\n",
        "    somma = 0\n",
        "    tmpLista3 = []\n",
        "    for item in lista3:\n",
        "        if isinstance(item, int or float):\n",
        "            qtaNums += 1\n",
        "            somma += item\n",
        "            tmpLista3.append(item)\n",
        "\n",
        "    media = somma / qtaNums\n",
        "    print(\"Numeri presenti nella lista:\", qtaNums, \"\\nNumero minore:\", min(tmpLista3), \"\\nMedia:\", media)\n",
        "\n",
        "print(lista3)\n",
        "print(\"Dopo describe()\")\n",
        "describe(lista3)"
      ],
      "execution_count": null,
      "outputs": [
        {
          "output_type": "stream",
          "name": "stdout",
          "text": [
            "[1, 'ciao', 1.5, 'a', 4.5, 5, 'NaN']\n",
            "Dopo describe()\n",
            "Numeri presenti nella lista: 2 \n",
            "Numero minore: 1 \n",
            "Media: 3.0\n"
          ]
        }
      ]
    },
    {
      "cell_type": "markdown",
      "metadata": {
        "id": "lJ_CHBtMh_5t"
      },
      "source": [
        "# Esercizio 6"
      ]
    },
    {
      "cell_type": "code",
      "metadata": {
        "colab": {
          "base_uri": "https://localhost:8080/"
        },
        "id": "5UkCJPDDiCQg",
        "outputId": "1f037887-5b60-475e-d420-db61edc302d1"
      },
      "source": [
        "#Esercizio6\n",
        "import random\n",
        "\n",
        "def funzioneEs6(N):\n",
        "    tmpLista6 = []\n",
        "    maggiore60 = []\n",
        "    minore60 = []\n",
        "    for i in range(N):\n",
        "        tmpLista6.append(random.randint(0, 100))\n",
        "        if tmpLista6[i] >= 60:\n",
        "            maggiore60.append(1)\n",
        "            minore60.append(0)\n",
        "        else:\n",
        "            maggiore60.append(0)\n",
        "            minore60.append(1)\n",
        "\n",
        "    tmpDict6 = {\n",
        "        \"lista_random\": tmpLista6,\n",
        "        \"maggiore60\": maggiore60,\n",
        "        \"minore60\": minore60\n",
        "    }\n",
        "\n",
        "    print(\"tmpDict6: \", tmpDict6)\n",
        "\n",
        "\n",
        "print(\"Inserisci un numero che indicherà la lunghezza della lista: \")\n",
        "N = int(input())\n",
        "while not isinstance(N, int) and 1 <= N <= 50:\n",
        "    print(\"Input errato, inserisci un numer valido tra 1 e 50 compresi\")\n",
        "    N = int(input())\n",
        "funzioneEs6(N)"
      ],
      "execution_count": null,
      "outputs": [
        {
          "output_type": "stream",
          "name": "stdout",
          "text": [
            "Inserisci un numero che indicherà la lunghezza della lista: \n",
            "10\n",
            "tmpDict6:  {'lista_random': [42, 85, 86, 71, 24, 11, 84, 52, 52, 0], 'maggiore60': [0, 1, 1, 1, 0, 0, 1, 0, 0, 0], 'minore60': [1, 0, 0, 0, 1, 1, 0, 1, 1, 1]}\n"
          ]
        }
      ]
    }
  ]
}